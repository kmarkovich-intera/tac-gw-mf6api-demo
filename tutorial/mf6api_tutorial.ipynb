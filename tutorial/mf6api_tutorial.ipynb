{
 "cells": [
  {
   "cell_type": "markdown",
   "id": "0ab3add4",
   "metadata": {
    "slideshow": {
     "slide_type": "slide"
    }
   },
   "source": [
    "Welcome to the INTERA GW Modeling TAC MODFLOW6 API Demo!"
   ]
  },
  {
   "cell_type": "markdown",
   "id": "f8d7a8f9",
   "metadata": {
    "slideshow": {
     "slide_type": "slide"
    }
   },
   "source": [
    "First we import our standard python libraries, as well as the pertinent packages for this tutorial: FloPy and modflowapi."
   ]
  },
  {
   "cell_type": "code",
   "execution_count": 1,
   "id": "da596f14",
   "metadata": {
    "slideshow": {
     "slide_type": "subslide"
    }
   },
   "outputs": [],
   "source": [
    "import numpy as np\n",
    "import pandas as pd\n",
    "import shutil\n",
    "import os\n",
    "import matplotlib.pyplot as plt\n",
    "import platform\n",
    "import modflowapi\n",
    "import flopy\n",
    "from IPython.display import HTML"
   ]
  },
  {
   "cell_type": "markdown",
   "id": "d996eabc",
   "metadata": {
    "slideshow": {
     "slide_type": "slide"
    }
   },
   "source": [
    "Then we need to set the path for our standard mf6 executable using the platform package which can detect your OS and assign the paths accordingly. We also need to set the path for the modflow6 api shared library (libmf6.dll for windows), which is what we will actually use to run the api and interact with the simualtion. "
   ]
  },
  {
   "cell_type": "code",
   "execution_count": 2,
   "id": "13fd606b",
   "metadata": {
    "slideshow": {
     "slide_type": "subslide"
    }
   },
   "outputs": [],
   "source": [
    "if \"linux\" in platform.platform().lower():\n",
    "    lib_path = os.path.join(\"bin\",\"linux\",\"libmf6.so\")\n",
    "    exe_path = os.path.join(\"bin\",\"linux\",\"mf6\")\n",
    "    lib_name = os.path.split(lib_path)[-1]\n",
    "    exe_name = \"./\"+os.path.split(exe_path)[-1]\n",
    "elif \"darwin\" in platform.platform().lower() or \"macos\" in platform.platform().lower() :\n",
    "    lib_path = os.path.join(\"bin\",\"mac\",\"libmf6.so\")\n",
    "    exe_path = os.path.join(\"bin\",\"mac\",\"mf6\")\n",
    "    lib_name = os.path.split(lib_path)[-1]\n",
    "    exe_name = \"./\"+os.path.split(exe_path)[-1]\n",
    "else:\n",
    "    lib_path = os.path.join(\"bin\",\"win\",\"libmf6.dll\")\n",
    "    exe_path = os.path.join(\"bin\",\"win\",\"mf6.exe\")  \n",
    "    lib_name = os.path.split(lib_path)[-1]\n",
    "    exe_name = os.path.split(exe_path)[-1]"
   ]
  },
  {
   "cell_type": "markdown",
   "id": "ef828f2b",
   "metadata": {
    "slideshow": {
     "slide_type": "slide"
    }
   },
   "source": [
    "Assuming that worked, next we will create a copy of the freyberg test model to work with. This is good practice for any python modeling workflows, as it allows us to leave the base files untouched and keep a python record of what is changed about it!"
   ]
  },
  {
   "cell_type": "code",
   "execution_count": 3,
   "id": "146c53ee",
   "metadata": {
    "slideshow": {
     "slide_type": "subslide"
    }
   },
   "outputs": [
    {
     "data": {
      "text/plain": [
       "'temp\\\\mf6.exe'"
      ]
     },
     "execution_count": 3,
     "metadata": {},
     "output_type": "execute_result"
    }
   ],
   "source": [
    "org_dir = \"freyberg_monthly\"\n",
    "work_dir = \"temp\"\n",
    "if os.path.exists(work_dir):\n",
    "    shutil.rmtree(work_dir)\n",
    "shutil.copytree(org_dir,work_dir)\n",
    "shutil.copy2(lib_path,os.path.join(work_dir,os.path.split(lib_path)[-1]))\n",
    "shutil.copy2(exe_path,os.path.join(work_dir,os.path.split(exe_path)[-1]))"
   ]
  },
  {
   "cell_type": "markdown",
   "id": "b03a74a5",
   "metadata": {
    "slideshow": {
     "slide_type": "slide"
    }
   },
   "source": [
    "Now we run the temp model using the standard executable, to make sure it runs to completion. "
   ]
  },
  {
   "cell_type": "code",
   "execution_count": 4,
   "id": "afed028b",
   "metadata": {
    "slideshow": {
     "slide_type": "subslide"
    }
   },
   "outputs": [],
   "source": [
    "c_d = os.getcwd()\n",
    "os.chdir(work_dir)\n",
    "os.system(exe_name)\n",
    "os.chdir(c_d)"
   ]
  },
  {
   "cell_type": "markdown",
   "id": "1a5de896",
   "metadata": {
    "slideshow": {
     "slide_type": "slide"
    }
   },
   "source": [
    "Now lets see how the API works. First let's make a new model copy and replicate the standard MF6 solution with the API"
   ]
  },
  {
   "cell_type": "code",
   "execution_count": 5,
   "id": "477f2385",
   "metadata": {
    "slideshow": {
     "slide_type": "subslide"
    }
   },
   "outputs": [
    {
     "data": {
      "text/plain": [
       "'api1\\\\mf6.exe'"
      ]
     },
     "execution_count": 5,
     "metadata": {},
     "output_type": "execute_result"
    }
   ],
   "source": [
    "api_dir1 = \"api1\"\n",
    "if os.path.exists(api_dir1):\n",
    "    shutil.rmtree(api_dir1)\n",
    "shutil.copytree(org_dir,api_dir1)\n",
    "shutil.copy2(lib_path,os.path.join(api_dir1,os.path.split(lib_path)[-1]))\n",
    "shutil.copy2(exe_path,os.path.join(api_dir1,os.path.split(exe_path)[-1]))"
   ]
  },
  {
   "cell_type": "markdown",
   "id": "d804fc75",
   "metadata": {
    "slideshow": {
     "slide_type": "slide"
    }
   },
   "source": [
    "The first thing you need to do is create the api object instance by calling modflowapi.ModflowApi() and specifying the arguments for the path to the shared library as well as the working directory. Then we \"initialize\" that object, which we are calling gwf for groundwater flow. "
   ]
  },
  {
   "cell_type": "code",
   "execution_count": 6,
   "id": "1e5da682",
   "metadata": {
    "slideshow": {
     "slide_type": "subslide"
    }
   },
   "outputs": [],
   "source": [
    "gwf = modflowapi.ModflowApi(os.path.join(api_dir1, lib_name), working_directory=api_dir1)\n",
    "gwf.initialize()"
   ]
  },
  {
   "cell_type": "markdown",
   "id": "5f40db8c",
   "metadata": {
    "slideshow": {
     "slide_type": "slide"
    }
   },
   "source": [
    "Then, before marching through the simulation, we need to first get the current time (which is the start time initially) and end time, as well as the maximum number of iterations (specified in IMS)"
   ]
  },
  {
   "cell_type": "code",
   "execution_count": 7,
   "id": "db8d6a8c",
   "metadata": {
    "slideshow": {
     "slide_type": "subslide"
    }
   },
   "outputs": [],
   "source": [
    "# get current sim time\n",
    "ctime = gwf.get_current_time()\n",
    "# get ending sim time\n",
    "etime = gwf.get_end_time()\n",
    "# max number of iterations\n",
    "max_iter = gwf.get_value(gwf.get_var_address(\"MXITER\", \"SLN_1\"))"
   ]
  },
  {
   "cell_type": "markdown",
   "id": "ba3365c9",
   "metadata": {
    "slideshow": {
     "slide_type": "slide"
    }
   },
   "source": [
    "Then, we wrap the api in a while loop and march the solution forward until we reach the simulation end time. The basic steps of marching through a simulation are as follows:\n",
    "1. Get the current time step length with `gwf.get_time_step()`\n",
    "2. Prepare the time step with `gwf.prepare_time_step(dt)`\n",
    "3. Prepare the solution with `gwf.prepare_solve(1)`\n",
    "4. Try solving the current iteration with `gwf.solve(1)`. If it doesn't solve, then add 1 to the iteration and try the solution again. do this until solution is achieved or the maximum number of iterations is reached.\n",
    "5. Finalize the solution for the time step with `gwf.finalize_solve(1)`\n",
    "6. Finalize the time step with `gwf.finalize_time_step()`\n",
    "7. Get the current time with `ctime = gwf.get_current_time()`\n",
    "8. Repeat steps 1-7 for all timesteps until end time is reached, and then finalize the api object with `gwf.finalize()`"
   ]
  },
  {
   "cell_type": "code",
   "execution_count": 8,
   "id": "d6954faf",
   "metadata": {
    "slideshow": {
     "slide_type": "slide"
    }
   },
   "outputs": [
    {
     "name": "stdout",
     "output_type": "stream",
     "text": [
      "flow stress period,time step 1,1 converged with 5 iters\n",
      "flow stress period,time step 2,1 converged with 1 iters\n",
      "flow stress period,time step 3,1 converged with 1 iters\n",
      "flow stress period,time step 4,1 converged with 1 iters\n",
      "flow stress period,time step 5,1 converged with 1 iters\n",
      "flow stress period,time step 6,1 converged with 1 iters\n",
      "flow stress period,time step 7,1 converged with 1 iters\n",
      "flow stress period,time step 8,1 converged with 1 iters\n",
      "flow stress period,time step 9,1 converged with 1 iters\n",
      "flow stress period,time step 10,1 converged with 1 iters\n",
      "flow stress period,time step 11,1 converged with 1 iters\n",
      "flow stress period,time step 12,1 converged with 1 iters\n",
      "flow stress period,time step 13,1 converged with 1 iters\n",
      "flow stress period,time step 14,1 converged with 1 iters\n",
      "flow stress period,time step 15,1 converged with 1 iters\n",
      "flow stress period,time step 16,1 converged with 1 iters\n",
      "flow stress period,time step 17,1 converged with 1 iters\n",
      "flow stress period,time step 18,1 converged with 1 iters\n",
      "flow stress period,time step 19,1 converged with 1 iters\n",
      "flow stress period,time step 20,1 converged with 1 iters\n",
      "flow stress period,time step 21,1 converged with 1 iters\n",
      "flow stress period,time step 22,1 converged with 1 iters\n",
      "flow stress period,time step 23,1 converged with 1 iters\n",
      "flow stress period,time step 24,1 converged with 1 iters\n",
      "flow stress period,time step 25,1 converged with 1 iters\n"
     ]
    }
   ],
   "source": [
    "# let's do it!\n",
    "while ctime < etime:\n",
    "    # the length of this sim time\n",
    "    dt = gwf.get_time_step()\n",
    "    # prep the current time step\n",
    "    gwf.prepare_time_step(dt)\n",
    "    kiter = 0\n",
    "    # prep to solve\n",
    "    gwf.prepare_solve(1)\n",
    "    # the current one-based stress period number\n",
    "    stress_period = gwf.get_value(gwf.get_var_address(\"KPER\", \"TDIS\"))[0]\n",
    "    time_step = gwf.get_value(gwf.get_var_address(\"KSTP\", \"TDIS\"))[0]\n",
    "    # solve until converged\n",
    "    while kiter < max_iter:\n",
    "        if gwf.solve(1):\n",
    "            print(\"flow stress period,time step {0},{1} converged with {2} iters\".\\\n",
    "                  format(stress_period, time_step, kiter))\n",
    "            break\n",
    "\n",
    "        kiter += 1\n",
    "    try:\n",
    "        gwf.finalize_solve(1)\n",
    "    except:\n",
    "        pass\n",
    "\n",
    "    gwf.finalize_time_step()\n",
    "    # update current sim time\n",
    "    ctime = gwf.get_current_time()\n",
    "gwf.finalize()"
   ]
  },
  {
   "cell_type": "markdown",
   "id": "a878f8a6",
   "metadata": {
    "slideshow": {
     "slide_type": "slide"
    }
   },
   "source": [
    "Now let's do something more exciting. We can use the API interface to build in operational rules for the pumping wells. If the sfr downstream flow for the terminal reach is too low, we need to pump less, if the flow is high, we can pump more. First we need to create a new working directory, and then intitialize an API GWF model."
   ]
  },
  {
   "cell_type": "code",
   "execution_count": 9,
   "id": "a197079d",
   "metadata": {
    "slideshow": {
     "slide_type": "subslide"
    }
   },
   "outputs": [
    {
     "data": {
      "text/plain": [
       "'api2\\\\mf6.exe'"
      ]
     },
     "execution_count": 9,
     "metadata": {},
     "output_type": "execute_result"
    }
   ],
   "source": [
    "api_dir2 = \"api2\"\n",
    "if os.path.exists(api_dir2):\n",
    "    shutil.rmtree(api_dir2)\n",
    "shutil.copytree(org_dir,api_dir2)\n",
    "shutil.copy2(lib_path,os.path.join(api_dir2,os.path.split(lib_path)[-1]))\n",
    "shutil.copy2(exe_path,os.path.join(api_dir2,os.path.split(exe_path)[-1]))"
   ]
  },
  {
   "cell_type": "code",
   "execution_count": 10,
   "id": "763b7caa",
   "metadata": {
    "slideshow": {
     "slide_type": "subslide"
    }
   },
   "outputs": [],
   "source": [
    "gwf = modflowapi.ModflowApi(os.path.join(api_dir2, lib_name), working_directory=api_dir2)\n",
    "gwf.initialize()"
   ]
  },
  {
   "cell_type": "markdown",
   "id": "bd967147",
   "metadata": {
    "slideshow": {
     "slide_type": "slide"
    }
   },
   "source": [
    "Before we go further, we need to pause and take a look at the MF6 memory manager. In the OPTIONS block of mfsim.nam, add the following key and value: MEMORY_PRINT_OPTION ALL and then run the MF6 model. Open mfsim.lst and scroll to the bottom until you see the line: \"DETAILED INFORMATION ON VARIABLES STORED IN THE MEMORY MANAGER\""
   ]
  },
  {
   "cell_type": "code",
   "execution_count": 1,
   "id": "bb17070b",
   "metadata": {
    "slideshow": {
     "slide_type": "slide"
    }
   },
   "outputs": [
    {
     "ename": "NameError",
     "evalue": "name 'HTML' is not defined",
     "output_type": "error",
     "traceback": [
      "\u001b[1;31m---------------------------------------------------------------------------\u001b[0m",
      "\u001b[1;31mNameError\u001b[0m                                 Traceback (most recent call last)",
      "Cell \u001b[1;32mIn[1], line 1\u001b[0m\n\u001b[1;32m----> 1\u001b[0m \u001b[43mHTML\u001b[49m(\u001b[38;5;124m\"\"\"\u001b[39m\n\u001b[0;32m      2\u001b[0m \u001b[38;5;124m<video width=\u001b[39m\u001b[38;5;124m\"\u001b[39m\u001b[38;5;124m320\u001b[39m\u001b[38;5;124m\"\u001b[39m\u001b[38;5;124m height=\u001b[39m\u001b[38;5;124m\"\u001b[39m\u001b[38;5;124m240\u001b[39m\u001b[38;5;124m\"\u001b[39m\u001b[38;5;124m controls>\u001b[39m\n\u001b[0;32m      3\u001b[0m \u001b[38;5;124m  <source src=\u001b[39m\u001b[38;5;124m\"\u001b[39m\u001b[38;5;124mmem_mgr.mp4\u001b[39m\u001b[38;5;124m\"\u001b[39m\u001b[38;5;124m type=\u001b[39m\u001b[38;5;124m\"\u001b[39m\u001b[38;5;124mvideo/mp4\u001b[39m\u001b[38;5;124m\"\u001b[39m\u001b[38;5;124m>\u001b[39m\n\u001b[0;32m      4\u001b[0m \u001b[38;5;124m</video>\u001b[39m\n\u001b[0;32m      5\u001b[0m \u001b[38;5;124m\"\"\"\u001b[39m)\n",
      "\u001b[1;31mNameError\u001b[0m: name 'HTML' is not defined"
     ]
    }
   ],
   "source": [
    "HTML(\"\"\"\n",
    "<video width=\"320\" height=\"240\" controls>\n",
    "  <source src=\"mem_mgr.mp4\" type=\"video/mp4\">\n",
    "</video>\n",
    "\"\"\")"
   ]
  },
  {
   "cell_type": "markdown",
   "id": "3f3e20c0",
   "metadata": {
    "slideshow": {
     "slide_type": "slide"
    }
   },
   "source": [
    "Here you will find all packages and variables being used in the model (and therefore stored in memory). This is your key to accessing model properties, boundary conditions, and basically anything else involved in the numerical solution using the API. You will notice that we have already sneakily used this in just running the standard MF6 solution with the API with `max_iter = gwf.get_value(gwf.get_var_address(\"MXITER\", \"SLN_1\"))`"
   ]
  },
  {
   "cell_type": "markdown",
   "id": "3ed4a685",
   "metadata": {
    "slideshow": {
     "slide_type": "slide"
    }
   },
   "source": [
    "There are essentially three steps to acquiring and modifying properties, BCs, etc. from within the API solution.\n",
    "1. Create an object of the address. This is the variable name, model name, and origin, in that order. So for K, it would be `addr = [\"K11\", \"FREYBERG6\", \"NPF\"]`. Note that model solution parameters do not require model name in their address. Try to come up with the address for DELR. \n",
    "2. Get the variable address using the API with `wbaddr = gwf.get_var_address(*addr)`\n",
    "3. Get the value(s) of the variable using the API with `gwf.get_value_ptr(wbaddr)` or `gwf.get_value(wbaddr)`. The main difference is whether you plan to modify the value or just need a copy of the value. `get_value_ptr` is for modifying, `get_value` is for copying. You will see both in use below."
   ]
  },
  {
   "cell_type": "markdown",
   "id": "ebe95fb7",
   "metadata": {
    "slideshow": {
     "slide_type": "slide"
    }
   },
   "source": [
    "Now we will march thru stess periods as before, but within the outer iteration loop, we will attempt some \"management\" to link the groundwater extraction rates to surface-water flow. If the surface-water flow at the terminal downstream reach is less than 2,500, reduce the pumping rates. Otherwise, if the surface-water flow is greater than 3,000, lets pump more!"
   ]
  },
  {
   "cell_type": "code",
   "execution_count": 12,
   "id": "5fe8a6be",
   "metadata": {
    "slideshow": {
     "slide_type": "slide"
    }
   },
   "outputs": [
    {
     "name": "stdout",
     "output_type": "stream",
     "text": [
      "  ---  iter:0, sfr: 0.00 org wel:-900.00 new wel: 0.00 fac:0.0\n",
      "  ---  iter:1, sfr:3907.46 org wel: 0.00 new wel: 0.00 fac:1.3\n",
      "  ---  iter:2, sfr:4339.91 org wel: 0.00 new wel: 0.00 fac:1.4\n",
      "  ---  iter:3, sfr:3410.25 org wel: 0.00 new wel: 0.00 fac:1.1\n",
      "  ---  iter:4, sfr:3027.47 org wel: 0.00 new wel: 0.00 fac:1.0\n",
      "flow stress period,time step 1,1 converged with 5 iters, final sfr:2983.33\n",
      "  ---  iter:0, sfr:2983.33 org wel:-900.05 new wel:-900.05 fac:1.0\n",
      "  ---  iter:1, sfr:2981.59 org wel:-900.05 new wel:-900.05 fac:1.0\n",
      "flow stress period,time step 2,1 converged with 2 iters, final sfr:3133.72\n",
      "  ---  iter:0, sfr:3133.72 org wel:-900.53 new wel:-940.67 fac:1.0\n",
      "  ---  iter:1, sfr:3132.30 org wel:-940.67 new wel:-982.16 fac:1.0\n",
      "  ---  iter:2, sfr:3546.74 org wel:-982.16 new wel:-1161.15 fac:1.2\n",
      "  ---  iter:3, sfr:3551.57 org wel:-1161.15 new wel:-1374.64 fac:1.2\n",
      "  ---  iter:4, sfr:3535.95 org wel:-1374.64 new wel:-1620.22 fac:1.2\n",
      "  ---  iter:5, sfr:3479.65 org wel:-1620.22 new wel:-1879.26 fac:1.2\n",
      "  ---  iter:6, sfr:3420.99 org wel:-1879.26 new wel:-2142.98 fac:1.1\n",
      "  ---  iter:7, sfr:3366.19 org wel:-2142.98 new wel:-2404.56 fac:1.1\n",
      "  ---  iter:8, sfr:3310.83 org wel:-2404.56 new wel:-2653.69 fac:1.1\n",
      "  ---  iter:9, sfr:3255.84 org wel:-2653.69 new wel:-2880.00 fac:1.1\n",
      "  ---  iter:10, sfr:3203.30 org wel:-2880.00 new wel:-3075.17 fac:1.1\n",
      "  ---  iter:11, sfr:3155.88 org wel:-3075.17 new wel:-3234.96 fac:1.1\n",
      "  ---  iter:12, sfr:3114.28 org wel:-3234.96 new wel:-3358.19 fac:1.0\n",
      "  ---  iter:13, sfr:3080.01 org wel:-3358.19 new wel:-3447.75 fac:1.0\n",
      "  ---  iter:14, sfr:3054.35 org wel:-3447.75 new wel:-3510.21 fac:1.0\n",
      "flow stress period,time step 3,1 converged with 15 iters, final sfr:3020.67\n",
      "  ---  iter:0, sfr:3020.67 org wel:-900.51 new wel:-906.72 fac:1.0\n",
      "  ---  iter:1, sfr:3017.47 org wel:-906.72 new wel:-912.00 fac:1.0\n",
      "  ---  iter:2, sfr:3746.44 org wel:-912.00 new wel:-1138.92 fac:1.2\n",
      "  ---  iter:3, sfr:3765.26 org wel:-1138.92 new wel:-1429.44 fac:1.3\n",
      "  ---  iter:4, sfr:3751.77 org wel:-1429.44 new wel:-1787.64 fac:1.3\n",
      "  ---  iter:5, sfr:3670.77 org wel:-1787.64 new wel:-2187.34 fac:1.2\n",
      "  ---  iter:6, sfr:3582.30 org wel:-2187.34 new wel:-2611.90 fac:1.2\n",
      "  ---  iter:7, sfr:3494.44 org wel:-2611.90 new wel:-3042.38 fac:1.2\n",
      "  ---  iter:8, sfr:3401.65 org wel:-3042.38 new wel:-3449.69 fac:1.1\n",
      "  ---  iter:9, sfr:3307.31 org wel:-3449.69 new wel:-3803.07 fac:1.1\n",
      "  ---  iter:10, sfr:3217.57 org wel:-3803.07 new wel:-4078.88 fac:1.1\n",
      "  ---  iter:11, sfr:3139.12 org wel:-4078.88 new wel:-4268.03 fac:1.0\n",
      "  ---  iter:12, sfr:3077.46 org wel:-4268.03 new wel:-4378.23 fac:1.0\n",
      "  ---  iter:13, sfr:3034.80 org wel:-4378.23 new wel:-4429.02 fac:1.0\n",
      "flow stress period,time step 4,1 converged with 14 iters, final sfr:2996.81\n",
      "  ---  iter:0, sfr:2996.81 org wel:-900.75 new wel:-900.75 fac:1.0\n",
      "  ---  iter:1, sfr:2995.27 org wel:-900.75 new wel:-900.75 fac:1.0\n",
      "  ---  iter:2, sfr:3785.30 org wel:-900.75 new wel:-1136.53 fac:1.3\n",
      "  ---  iter:3, sfr:3806.86 org wel:-1136.53 new wel:-1442.21 fac:1.3\n",
      "  ---  iter:4, sfr:3793.09 org wel:-1442.21 new wel:-1823.48 fac:1.3\n",
      "  ---  iter:5, sfr:3709.86 org wel:-1823.48 new wel:-2254.95 fac:1.2\n",
      "  ---  iter:6, sfr:3617.89 org wel:-2254.95 new wel:-2719.39 fac:1.2\n",
      "  ---  iter:7, sfr:3525.14 org wel:-2719.39 new wel:-3195.41 fac:1.2\n",
      "  ---  iter:8, sfr:3425.85 org wel:-3195.41 new wel:-3649.00 fac:1.1\n",
      "  ---  iter:9, sfr:3323.79 org wel:-3649.00 new wel:-4042.83 fac:1.1\n",
      "  ---  iter:10, sfr:3226.01 org wel:-4042.83 new wel:-4347.41 fac:1.1\n",
      "  ---  iter:11, sfr:3140.42 org wel:-4347.41 new wel:-4550.89 fac:1.0\n",
      "  ---  iter:12, sfr:3073.70 org wel:-4550.89 new wel:-4662.69 fac:1.0\n",
      "flow stress period,time step 5,1 converged with 13 iters, final sfr:3003.57\n",
      "  ---  iter:0, sfr:3003.57 org wel:-900.80 new wel:-901.88 fac:1.0\n",
      "  ---  iter:1, sfr:2991.34 org wel:-901.88 new wel:-901.88 fac:1.0\n",
      "  ---  iter:2, sfr:3670.92 org wel:-901.88 new wel:-1103.57 fac:1.2\n",
      "  ---  iter:3, sfr:3690.22 org wel:-1103.57 new wel:-1357.48 fac:1.2\n",
      "  ---  iter:4, sfr:3672.87 org wel:-1357.48 new wel:-1661.95 fac:1.2\n",
      "  ---  iter:5, sfr:3605.87 org wel:-1661.95 new wel:-1997.58 fac:1.2\n",
      "  ---  iter:6, sfr:3531.01 org wel:-1997.58 new wel:-2351.16 fac:1.2\n",
      "  ---  iter:7, sfr:3457.18 org wel:-2351.16 new wel:-2709.47 fac:1.2\n",
      "  ---  iter:8, sfr:3379.58 org wel:-2709.47 new wel:-3052.29 fac:1.1\n",
      "  ---  iter:9, sfr:3301.03 org wel:-3052.29 new wel:-3358.57 fac:1.1\n",
      "  ---  iter:10, sfr:3225.55 org wel:-3358.57 new wel:-3611.08 fac:1.1\n",
      "  ---  iter:11, sfr:3157.97 org wel:-3611.08 new wel:-3801.22 fac:1.1\n",
      "  ---  iter:12, sfr:3101.58 org wel:-3801.22 new wel:-3929.93 fac:1.0\n",
      "  ---  iter:13, sfr:3059.16 org wel:-3929.93 new wel:-4007.42 fac:1.0\n",
      "flow stress period,time step 6,1 converged with 14 iters, final sfr:3012.12\n",
      "  ---  iter:0, sfr:3012.12 org wel:-900.07 new wel:-903.71 fac:1.0\n",
      "  ---  iter:1, sfr:3008.73 org wel:-903.71 new wel:-906.34 fac:1.0\n",
      "  ---  iter:2, sfr:3378.77 org wel:-906.34 new wel:-1020.77 fac:1.1\n",
      "  ---  iter:3, sfr:3389.35 org wel:-1020.77 new wel:-1153.25 fac:1.1\n",
      "  ---  iter:4, sfr:3376.30 org wel:-1153.25 new wel:-1297.90 fac:1.1\n",
      "  ---  iter:5, sfr:3344.23 org wel:-1297.90 new wel:-1446.83 fac:1.1\n",
      "  ---  iter:6, sfr:3309.22 org wel:-1446.83 new wel:-1595.95 fac:1.1\n",
      "  ---  iter:7, sfr:3276.95 org wel:-1595.95 new wel:-1743.29 fac:1.1\n",
      "  ---  iter:8, sfr:3244.88 org wel:-1743.29 new wel:-1885.59 fac:1.1\n",
      "  ---  iter:9, sfr:3213.19 org wel:-1885.59 new wel:-2019.58 fac:1.1\n",
      "  ---  iter:10, sfr:3182.53 org wel:-2019.58 new wel:-2142.46 fac:1.1\n",
      "  ---  iter:11, sfr:3154.80 org wel:-2142.46 new wel:-2253.02 fac:1.1\n",
      "  ---  iter:12, sfr:3128.05 org wel:-2253.02 new wel:-2349.18 fac:1.0\n",
      "  ---  iter:13, sfr:3103.85 org wel:-2349.18 new wel:-2430.50 fac:1.0\n",
      "  ---  iter:14, sfr:3082.77 org wel:-2430.50 new wel:-2497.56 fac:1.0\n",
      "flow stress period,time step 7,1 converged with 15 iters, final sfr:3050.18\n",
      "  ---  iter:0, sfr:3050.18 org wel:-900.61 new wel:-915.68 fac:1.0\n",
      "  ---  iter:1, sfr:3038.19 org wel:-915.68 new wel:-927.33 fac:1.0\n",
      "flow stress period,time step 8,1 converged with 2 iters, final sfr:3014.81\n",
      "  ---  iter:0, sfr:3014.81 org wel:-900.30 new wel:-904.74 fac:1.0\n",
      "  ---  iter:1, sfr:3013.03 org wel:-904.74 new wel:-908.67 fac:1.0\n",
      "flow stress period,time step 9,1 converged with 2 iters, final sfr:2624.51\n",
      "  ---  iter:0, sfr:2624.51 org wel:-900.22 new wel:-900.22 fac:1.0\n",
      "  ---  iter:1, sfr:2624.35 org wel:-900.22 new wel:-900.22 fac:1.0\n",
      "  ---  iter:2, sfr:2147.88 org wel:-900.22 new wel:-773.43 fac:0.9\n",
      "  ---  iter:3, sfr:2130.88 org wel:-773.43 new wel:-659.23 fac:0.9\n",
      "  ---  iter:4, sfr:2150.74 org wel:-659.23 new wel:-567.14 fac:0.9\n",
      "  ---  iter:5, sfr:2174.48 org wel:-567.14 new wel:-493.29 fac:0.9\n",
      "  ---  iter:6, sfr:2197.55 org wel:-493.29 new wel:-433.61 fac:0.9\n",
      "flow stress period,time step 10,1 converged with 7 iters, final sfr:2227.44\n",
      "  ---  iter:0, sfr:2227.44 org wel:-900.86 new wel:-802.65 fac:0.9\n",
      "  ---  iter:1, sfr:2238.91 org wel:-802.65 new wel:-718.82 fac:0.9\n",
      "  ---  iter:2, sfr:1823.29 org wel:-718.82 new wel:-524.25 fac:0.7\n",
      "  ---  iter:3, sfr:1821.70 org wel:-524.25 new wel:-382.01 fac:0.7\n",
      "  ---  iter:4, sfr:1858.47 org wel:-382.01 new wel:-283.98 fac:0.7\n",
      "  ---  iter:5, sfr:1890.59 org wel:-283.98 new wel:-214.76 fac:0.8\n",
      "flow stress period,time step 11,1 converged with 6 iters, final sfr:1932.35\n",
      "  ---  iter:0, sfr:1932.35 org wel:-900.62 new wel:-696.12 fac:0.8\n",
      "  ---  iter:1, sfr:1944.51 org wel:-696.12 new wel:-541.45 fac:0.8\n",
      "  ---  iter:2, sfr:1768.71 org wel:-541.45 new wel:-383.07 fac:0.7\n",
      "  ---  iter:3, sfr:1782.37 org wel:-383.07 new wel:-273.11 fac:0.7\n",
      "  ---  iter:4, sfr:1818.19 org wel:-273.11 new wel:-198.62 fac:0.7\n",
      "flow stress period,time step 12,1 converged with 5 iters, final sfr:1863.33\n",
      "  ---  iter:0, sfr:1863.33 org wel:-900.78 new wel:-671.38 fac:0.7\n",
      "  ---  iter:1, sfr:1876.23 org wel:-671.38 new wel:-503.87 fac:0.8\n",
      "  ---  iter:2, sfr:2004.03 org wel:-503.87 new wel:-403.91 fac:0.8\n",
      "  ---  iter:3, sfr:2030.21 org wel:-403.91 new wel:-328.00 fac:0.8\n",
      "  ---  iter:4, sfr:2062.09 org wel:-328.00 new wel:-270.55 fac:0.8\n",
      "flow stress period,time step 13,1 converged with 5 iters, final sfr:2094.38\n",
      "  ---  iter:0, sfr:2094.38 org wel:-900.76 new wel:-754.61 fac:0.8\n",
      "  ---  iter:1, sfr:2103.25 org wel:-754.61 new wel:-634.85 fac:0.8\n",
      "flow stress period,time step 14,1 converged with 2 iters, final sfr:2527.14\n",
      "  ---  iter:0, sfr:2527.14 org wel:-900.19 new wel:-900.19 fac:1.0\n",
      "  ---  iter:1, sfr:2527.60 org wel:-900.19 new wel:-900.19 fac:1.0\n",
      "flow stress period,time step 15,1 converged with 2 iters, final sfr:3066.20\n",
      "  ---  iter:0, sfr:3066.20 org wel:-900.20 new wel:-920.06 fac:1.0\n",
      "  ---  iter:1, sfr:3065.64 org wel:-920.06 new wel:-940.19 fac:1.0\n",
      "  ---  iter:2, sfr:3706.44 org wel:-940.19 new wel:-1161.59 fac:1.2\n",
      "  ---  iter:3, sfr:3717.85 org wel:-1161.59 new wel:-1439.54 fac:1.2\n",
      "  ---  iter:4, sfr:3704.64 org wel:-1439.54 new wel:-1777.66 fac:1.2\n",
      "  ---  iter:5, sfr:3626.48 org wel:-1777.66 new wel:-2148.89 fac:1.2\n",
      "  ---  iter:6, sfr:3542.66 org wel:-2148.89 new wel:-2537.59 fac:1.2\n",
      "  ---  iter:7, sfr:3460.95 org wel:-2537.59 new wel:-2927.49 fac:1.2\n",
      "  ---  iter:8, sfr:3375.91 org wel:-2927.49 new wel:-3294.32 fac:1.1\n",
      "  ---  iter:9, sfr:3290.41 org wel:-3294.32 new wel:-3613.22 fac:1.1\n",
      "  ---  iter:10, sfr:3209.56 org wel:-3613.22 new wel:-3865.61 fac:1.1\n",
      "  ---  iter:11, sfr:3139.04 org wel:-3865.61 new wel:-4044.76 fac:1.0\n",
      "  ---  iter:12, sfr:3082.45 org wel:-4044.76 new wel:-4155.92 fac:1.0\n",
      "  ---  iter:13, sfr:3042.20 org wel:-4155.92 new wel:-4214.38 fac:1.0\n"
     ]
    },
    {
     "name": "stdout",
     "output_type": "stream",
     "text": [
      "flow stress period,time step 16,1 converged with 14 iters, final sfr:3002.79\n",
      "  ---  iter:0, sfr:3002.79 org wel:-900.14 new wel:-900.98 fac:1.0\n",
      "  ---  iter:1, sfr:3000.57 org wel:-900.98 new wel:-901.15 fac:1.0\n",
      "  ---  iter:2, sfr:3746.28 org wel:-901.15 new wel:-1125.32 fac:1.2\n",
      "  ---  iter:3, sfr:3767.68 org wel:-1125.32 new wel:-1413.28 fac:1.3\n",
      "  ---  iter:4, sfr:3754.56 org wel:-1413.28 new wel:-1768.74 fac:1.3\n",
      "  ---  iter:5, sfr:3675.39 org wel:-1768.74 new wel:-2166.94 fac:1.2\n",
      "  ---  iter:6, sfr:3589.66 org wel:-2166.94 new wel:-2592.86 fac:1.2\n",
      "  ---  iter:7, sfr:3503.70 org wel:-2592.86 new wel:-3028.20 fac:1.2\n",
      "  ---  iter:8, sfr:3412.60 org wel:-3028.20 new wel:-3444.68 fac:1.1\n",
      "  ---  iter:9, sfr:3319.26 org wel:-3444.68 new wel:-3811.26 fac:1.1\n",
      "  ---  iter:10, sfr:3229.51 org wel:-3811.26 new wel:-4102.83 fac:1.1\n",
      "  ---  iter:11, sfr:3149.95 org wel:-4102.83 new wel:-4307.90 fac:1.0\n",
      "  ---  iter:12, sfr:3086.26 org wel:-4307.90 new wel:-4431.77 fac:1.0\n",
      "  ---  iter:13, sfr:3041.12 org wel:-4431.77 new wel:-4492.51 fac:1.0\n",
      "flow stress period,time step 17,1 converged with 14 iters, final sfr:2998.84\n",
      "  ---  iter:0, sfr:2998.84 org wel:-900.87 new wel:-900.87 fac:1.0\n",
      "  ---  iter:1, sfr:2996.83 org wel:-900.87 new wel:-900.87 fac:1.0\n",
      "  ---  iter:2, sfr:3640.99 org wel:-900.87 new wel:-1093.35 fac:1.2\n",
      "  ---  iter:3, sfr:3657.84 org wel:-1093.35 new wel:-1333.10 fac:1.2\n",
      "  ---  iter:4, sfr:3642.19 org wel:-1333.10 new wel:-1618.47 fac:1.2\n",
      "  ---  iter:5, sfr:3579.33 org wel:-1618.47 new wel:-1931.01 fac:1.2\n",
      "  ---  iter:6, sfr:3509.15 org wel:-1931.01 new wel:-2258.74 fac:1.2\n",
      "  ---  iter:7, sfr:3440.37 org wel:-2258.74 new wel:-2590.30 fac:1.1\n",
      "  ---  iter:8, sfr:3368.69 org wel:-2590.30 new wel:-2908.64 fac:1.1\n",
      "  ---  iter:9, sfr:3296.01 org wel:-2908.64 new wel:-3195.63 fac:1.1\n",
      "  ---  iter:10, sfr:3225.94 org wel:-3195.63 new wel:-3436.30 fac:1.1\n",
      "  ---  iter:11, sfr:3162.41 org wel:-3436.30 new wel:-3622.33 fac:1.1\n",
      "  ---  iter:12, sfr:3108.75 org wel:-3622.33 new wel:-3753.64 fac:1.0\n",
      "  ---  iter:13, sfr:3067.38 org wel:-3753.64 new wel:-3837.94 fac:1.0\n",
      "flow stress period,time step 18,1 converged with 14 iters, final sfr:3018.59\n",
      "  ---  iter:0, sfr:3018.59 org wel:-900.36 new wel:-905.94 fac:1.0\n",
      "  ---  iter:1, sfr:3006.31 org wel:-905.94 new wel:-907.84 fac:1.0\n",
      "  ---  iter:2, sfr:3349.02 org wel:-907.84 new wel:-1013.46 fac:1.1\n",
      "  ---  iter:3, sfr:3359.10 org wel:-1013.46 new wel:-1134.77 fac:1.1\n",
      "  ---  iter:4, sfr:3347.01 org wel:-1134.77 new wel:-1266.03 fac:1.1\n",
      "  ---  iter:5, sfr:3317.57 org wel:-1266.03 new wel:-1400.05 fac:1.1\n",
      "  ---  iter:6, sfr:3285.77 org wel:-1400.05 new wel:-1533.41 fac:1.1\n",
      "  ---  iter:7, sfr:3256.69 org wel:-1533.41 new wel:-1664.62 fac:1.1\n",
      "  ---  iter:8, sfr:3228.01 org wel:-1664.62 new wel:-1791.14 fac:1.1\n",
      "  ---  iter:9, sfr:3199.78 org wel:-1791.14 new wel:-1910.42 fac:1.1\n",
      "  ---  iter:10, sfr:3173.55 org wel:-1910.42 new wel:-2020.93 fac:1.1\n",
      "  ---  iter:11, sfr:3147.68 org wel:-2020.93 new wel:-2120.42 fac:1.0\n",
      "  ---  iter:12, sfr:3123.70 org wel:-2120.42 new wel:-2207.85 fac:1.0\n",
      "  ---  iter:13, sfr:3102.02 org wel:-2207.85 new wel:-2282.93 fac:1.0\n",
      "  ---  iter:14, sfr:3082.90 org wel:-2282.93 new wel:-2346.01 fac:1.0\n",
      "flow stress period,time step 19,1 converged with 15 iters, final sfr:3052.53\n",
      "  ---  iter:0, sfr:3052.53 org wel:-900.76 new wel:-916.54 fac:1.0\n",
      "  ---  iter:1, sfr:3040.45 org wel:-916.54 new wel:-928.89 fac:1.0\n",
      "flow stress period,time step 20,1 converged with 2 iters, final sfr:2992.13\n",
      "  ---  iter:0, sfr:2992.13 org wel:-900.69 new wel:-900.69 fac:1.0\n",
      "  ---  iter:1, sfr:2991.99 org wel:-900.69 new wel:-900.69 fac:1.0\n",
      "flow stress period,time step 21,1 converged with 2 iters, final sfr:2594.75\n",
      "  ---  iter:0, sfr:2594.75 org wel:-900.25 new wel:-900.25 fac:1.0\n",
      "  ---  iter:1, sfr:2594.61 org wel:-900.25 new wel:-900.25 fac:1.0\n",
      "  ---  iter:2, sfr:2114.72 org wel:-900.25 new wel:-761.51 fac:0.8\n",
      "  ---  iter:3, sfr:2098.73 org wel:-761.51 new wel:-639.28 fac:0.8\n",
      "  ---  iter:4, sfr:2121.70 org wel:-639.28 new wel:-542.55 fac:0.8\n",
      "  ---  iter:5, sfr:2147.26 org wel:-542.55 new wel:-466.00 fac:0.9\n",
      "  ---  iter:6, sfr:2170.49 org wel:-466.00 new wel:-404.58 fac:0.9\n",
      "flow stress period,time step 22,1 converged with 7 iters, final sfr:2201.50\n",
      "  ---  iter:0, sfr:2201.50 org wel:-900.15 new wel:-792.68 fac:0.9\n",
      "  ---  iter:1, sfr:2213.21 org wel:-792.68 new wel:-701.74 fac:0.9\n",
      "  ---  iter:2, sfr:1800.15 org wel:-701.74 new wel:-505.30 fac:0.7\n",
      "  ---  iter:3, sfr:1802.05 org wel:-505.30 new wel:-364.23 fac:0.7\n",
      "  ---  iter:4, sfr:1838.30 org wel:-364.23 new wel:-267.83 fac:0.7\n",
      "  ---  iter:5, sfr:1870.18 org wel:-267.83 new wel:-200.35 fac:0.7\n",
      "flow stress period,time step 23,1 converged with 6 iters, final sfr:1911.21\n",
      "  ---  iter:0, sfr:1911.21 org wel:-900.69 new wel:-688.56 fac:0.8\n",
      "  ---  iter:1, sfr:1922.98 org wel:-688.56 new wel:-529.64 fac:0.8\n",
      "  ---  iter:2, sfr:1753.18 org wel:-529.64 new wel:-371.42 fac:0.7\n",
      "  ---  iter:3, sfr:1767.43 org wel:-371.42 new wel:-262.58 fac:0.7\n",
      "  ---  iter:4, sfr:1803.59 org wel:-262.58 new wel:-189.44 fac:0.7\n",
      "flow stress period,time step 24,1 converged with 5 iters, final sfr:1848.34\n",
      "  ---  iter:0, sfr:1848.34 org wel:-900.87 new wel:-666.05 fac:0.7\n",
      "  ---  iter:1, sfr:1860.94 org wel:-666.05 new wel:-495.79 fac:0.7\n",
      "  ---  iter:2, sfr:2140.87 org wel:-495.79 new wel:-424.57 fac:0.9\n",
      "flow stress period,time step 25,1 converged with 3 iters, final sfr:2203.41\n"
     ]
    }
   ],
   "source": [
    "# get current sim time\n",
    "ctime = gwf.get_current_time()\n",
    "# get ending sim time\n",
    "etime = gwf.get_end_time()\n",
    "# max number of iterations\n",
    "max_iter = gwf.get_value(gwf.get_var_address(\"MXITER\", \"SLN_1\"))\n",
    "# let's do it!\n",
    "while ctime < etime:\n",
    "    # the length of this sim time\n",
    "    dt = gwf.get_time_step()\n",
    "    # prep the current time step\n",
    "    gwf.prepare_time_step(dt)\n",
    "    kiter = 0\n",
    "    # prep to solve\n",
    "    gwf.prepare_solve(1)\n",
    "    # the current one-based stress period number\n",
    "    stress_period = gwf.get_value(gwf.get_var_address(\"KPER\", \"TDIS\"))[0]\n",
    "    time_step = gwf.get_value(gwf.get_var_address(\"KSTP\", \"TDIS\"))[0]\n",
    "    # solve until converged\n",
    "    while kiter < max_iter:\n",
    "        \n",
    "        # get the sfr dsflow rate for the last reach\n",
    "        addr = [\"DSFLOW\", \"FREYBERG6\", \"SFR_1\"]\n",
    "        wbaddr = gwf.get_var_address(*addr)\n",
    "        sfr_dsflow = gwf.get_value(wbaddr)\n",
    "        \n",
    "        #get the wel extraction rates\n",
    "        \"FREYBERG6/WEL-1                   BOUND\"\n",
    "        addr = [\"BOUND\", \"FREYBERG6\", \"WEl-1\"]\n",
    "        wbaddr = gwf.get_var_address(*addr)\n",
    "        wel_bound = gwf.get_value_ptr(wbaddr)\n",
    "        org = np.sum(wel_bound)\n",
    "        \n",
    "        # if the flow is too low, turn down the wells\n",
    "        fac = 1\n",
    "        if sfr_dsflow[-1] < 2500:\n",
    "            fac = sfr_dsflow[-1]/2500\n",
    "            wel_bound[:] *= fac\n",
    "        \n",
    "        #otherewise if there is extra flow, turn up the wells\n",
    "        elif sfr_dsflow[-1] > 3000:\n",
    "            fac = sfr_dsflow[-1]/3000\n",
    "            wel_bound[:] *= fac\n",
    "        \n",
    "        # if we have solved at least once and the solution is converged\n",
    "        if gwf.solve(1) and kiter > 1:\n",
    "            # get the sfr dsflow rate for the last reach\n",
    "            addr = [\"DSFLOW\", \"FREYBERG6\", \"SFR_1\"]\n",
    "            wbaddr = gwf.get_var_address(*addr)\n",
    "            sfr_dsflow = gwf.get_value(wbaddr)\n",
    "            print(\"flow stress period,time step {0},{1} converged with {2} iters, final sfr:{3:5.2f}\".\\\n",
    "                  format(stress_period,time_step, kiter,sfr_dsflow[-1]))\n",
    "            break\n",
    "        \n",
    "        \n",
    "        print(\"  ---  iter:{0}, sfr:{1:5.2f} org wel:{2:5.2f} new wel:{3:5.2f} fac:{4:2.1f}\" .\\\n",
    "              format(kiter,sfr_dsflow[-1],org,np.sum(wel_bound),fac))\n",
    "        kiter += 1\n",
    "    try:\n",
    "        gwf.finalize_solve(1)\n",
    "    except:\n",
    "        pass\n",
    "    \n",
    "    \n",
    "    gwf.finalize_time_step()\n",
    "    # update current sim time\n",
    "    ctime = gwf.get_current_time()\n",
    "gwf.finalize()"
   ]
  },
  {
   "cell_type": "markdown",
   "id": "13a3d93b",
   "metadata": {
    "slideshow": {
     "slide_type": "slide"
    }
   },
   "source": [
    "Woah - that drastically increased the number of iterations - we are working the solver here with some strong nonlinearity! Let's plot up the results and check the differences between the standard and the API run"
   ]
  },
  {
   "cell_type": "code",
   "execution_count": 13,
   "id": "39877f58",
   "metadata": {
    "slideshow": {
     "slide_type": "slide"
    }
   },
   "outputs": [
    {
     "data": {
      "text/plain": [
       "Text(0.5, 1.0, 'sw-gw flux')"
      ]
     },
     "execution_count": 13,
     "metadata": {},
     "output_type": "execute_result"
    },
    {
     "data": {
      "image/png": "[encoded data removed]",
      "text/plain": [
       "<Figure size 1000x1000 with 2 Axes>"
      ]
     },
     "metadata": {},
     "output_type": "display_data"
    }
   ],
   "source": [
    "lst_org = flopy.utils.Mf6ListBudget(os.path.join(work_dir,\"freyberg6.lst\"))\n",
    "lst_api = flopy.utils.Mf6ListBudget(os.path.join(api_dir2,\"freyberg6.lst\"))\n",
    "\n",
    "oinc,ocum = lst_org.get_dataframes(diff=True)\n",
    "ainc,acum = lst_api.get_dataframes(diff=True)\n",
    "\n",
    "fig,axes = plt.subplots(2,1,figsize=(10,10))\n",
    "axes[0].plot(ainc.index,ainc.wel,color=\"r\",label=\"api\")\n",
    "axes[0].plot(oinc.index,oinc.wel,color=\"c\",label=\"org\")\n",
    "axes[1].plot(ainc.index,ainc.sfr,color=\"r\",label=\"api\")\n",
    "axes[1].plot(oinc.index,oinc.sfr,color=\"c\",label=\"org\")\n",
    "axes[0].legend()\n",
    "axes[0].set_title(\"well flux\")\n",
    "axes[1].legend()\n",
    "axes[1].set_title(\"sw-gw flux\")"
   ]
  },
  {
   "cell_type": "markdown",
   "id": "0d3040a0",
   "metadata": {
    "slideshow": {
     "slide_type": "slide"
    }
   },
   "source": [
    "We can see the effect of our \"management\" strategy: substantially more gw is extracted during the wet season while less groundwater is extracted during the dry season compared to the original simulation (that used constant extraction). And we see that this contributes to less groundwater contribution to surface water during the wet season."
   ]
  },
  {
   "cell_type": "markdown",
   "id": "a05fc19b",
   "metadata": {
    "slideshow": {
     "slide_type": "slide"
    }
   },
   "source": [
    "Now that you've seen the API in action for a simple conjunctive use scenario, try coding up your own to accomplish the following: \n",
    "\n",
    "Pick a head located anywhere in layer 1 and set an arbitrary minimum threshold, that, when surpassed, leads to a system-wide pumping reduction. Hint: the address for current timestep head is `['X', 'FREYBERG6']`"
   ]
  },
  {
   "cell_type": "code",
   "execution_count": null,
   "id": "c442c91c",
   "metadata": {
    "slideshow": {
     "slide_type": "skip"
    }
   },
   "outputs": [],
   "source": []
  },
  {
   "cell_type": "code",
   "execution_count": null,
   "id": "f6d12a38",
   "metadata": {
    "slideshow": {
     "slide_type": "skip"
    }
   },
   "outputs": [],
   "source": []
  },
  {
   "cell_type": "markdown",
   "id": "6018bd1a",
   "metadata": {
    "slideshow": {
     "slide_type": "slide"
    }
   },
   "source": [
    "You can adapt the following code to plot up the results to check that the WL recovers and check that pumping is reduced."
   ]
  },
  {
   "cell_type": "code",
   "execution_count": null,
   "id": "2560525d",
   "metadata": {
    "scrolled": true,
    "slideshow": {
     "slide_type": "slide"
    }
   },
   "outputs": [],
   "source": []
  }
 ],
 "metadata": {
  "celltoolbar": "Slideshow",
  "kernelspec": {
   "display_name": "Python 3 (ipykernel)",
   "language": "python",
   "name": "python3"
  },
  "language_info": {
   "codemirror_mode": {
    "name": "ipython",
    "version": 3
   },
   "file_extension": ".py",
   "mimetype": "text/x-python",
   "name": "python",
   "nbconvert_exporter": "python",
   "pygments_lexer": "ipython3",
   "version": "3.9.16"
  },
  "rise": {
   "enable_chalkboard": true,
   "height": 800,
   "scroll": true,
   "theme": "solarized",
   "transition": "none",
   "width": 1300
  },
  "varInspector": {
   "cols": {
    "lenName": 16,
    "lenType": 16,
    "lenVar": 40
   },
   "kernels_config": {
    "python": {
     "delete_cmd_postfix": "",
     "delete_cmd_prefix": "del ",
     "library": "var_list.py",
     "varRefreshCmd": "print(var_dic_list())"
    },
    "r": {
     "delete_cmd_postfix": ") ",
     "delete_cmd_prefix": "rm(",
     "library": "var_list.r",
     "varRefreshCmd": "cat(var_dic_list()) "
    }
   },
   "position": {
    "height": "144.45px",
    "left": "1153px",
    "right": "20px",
    "top": "123px",
    "width": "350px"
   },
   "types_to_exclude": [
    "module",
    "function",
    "builtin_function_or_method",
    "instance",
    "_Feature"
   ],
   "window_display": false
  }
 },
 "nbformat": 4,
 "nbformat_minor": 5
}
